{
  "cells": [
    {
      "cell_type": "markdown",
      "metadata": {
        "id": "Y9DVkth_7gDL"
      },
      "source": [
        "STOCK PRICE MOVEMENT PREDICTION\n",
        "\n",
        "This model predicts whether the movemnt of a stock of a particular company on a specific day goes up or down based on past trends"
      ]
    },
    {
      "cell_type": "code",
      "execution_count": 3,
      "metadata": {
        "id": "U_6ADgyFci2o"
      },
      "outputs": [],
      "source": [
        "import pandas as pd\n",
        "import numpy as np\n",
        "import matplotlib.pyplot as plt\n",
        "import seaborn as sns\n",
        "from sklearn.preprocessing import LabelEncoder"
      ]
    },
    {
      "cell_type": "code",
      "execution_count": 4,
      "metadata": {
        "colab": {
          "base_uri": "https://localhost:8080/",
          "height": 423
        },
        "id": "a4PNmb28cmoc",
        "outputId": "65f84e56-8325-455d-b841-3598a4713e3b"
      },
      "outputs": [
        {
          "name": "stderr",
          "output_type": "stream",
          "text": [
            "<>:1: SyntaxWarning: invalid escape sequence '\\M'\n",
            "<>:1: SyntaxWarning: invalid escape sequence '\\M'\n",
            "C:\\Users\\sharm\\AppData\\Local\\Temp\\ipykernel_28164\\934809605.py:1: SyntaxWarning: invalid escape sequence '\\M'\n",
            "  df=pd.read_csv('D:\\Misha ML Project\\stock_movement_real_companies.csv')\n"
          ]
        },
        {
          "data": {
            "text/html": [
              "<div>\n",
              "<style scoped>\n",
              "    .dataframe tbody tr th:only-of-type {\n",
              "        vertical-align: middle;\n",
              "    }\n",
              "\n",
              "    .dataframe tbody tr th {\n",
              "        vertical-align: top;\n",
              "    }\n",
              "\n",
              "    .dataframe thead th {\n",
              "        text-align: right;\n",
              "    }\n",
              "</style>\n",
              "<table border=\"1\" class=\"dataframe\">\n",
              "  <thead>\n",
              "    <tr style=\"text-align: right;\">\n",
              "      <th></th>\n",
              "      <th>Date</th>\n",
              "      <th>Company</th>\n",
              "      <th>Open</th>\n",
              "      <th>Close</th>\n",
              "      <th>Volume</th>\n",
              "      <th>Movement</th>\n",
              "    </tr>\n",
              "  </thead>\n",
              "  <tbody>\n",
              "    <tr>\n",
              "      <th>0</th>\n",
              "      <td>2024-06-01</td>\n",
              "      <td>Apple</td>\n",
              "      <td>300.20</td>\n",
              "      <td>298.43</td>\n",
              "      <td>1904116</td>\n",
              "      <td>Down</td>\n",
              "    </tr>\n",
              "    <tr>\n",
              "      <th>1</th>\n",
              "      <td>2024-06-02</td>\n",
              "      <td>Apple</td>\n",
              "      <td>298.43</td>\n",
              "      <td>303.36</td>\n",
              "      <td>783876</td>\n",
              "      <td>Up</td>\n",
              "    </tr>\n",
              "    <tr>\n",
              "      <th>2</th>\n",
              "      <td>2024-06-03</td>\n",
              "      <td>Apple</td>\n",
              "      <td>303.36</td>\n",
              "      <td>300.89</td>\n",
              "      <td>923570</td>\n",
              "      <td>Down</td>\n",
              "    </tr>\n",
              "    <tr>\n",
              "      <th>3</th>\n",
              "      <td>2024-06-04</td>\n",
              "      <td>Apple</td>\n",
              "      <td>300.89</td>\n",
              "      <td>305.58</td>\n",
              "      <td>1138353</td>\n",
              "      <td>Up</td>\n",
              "    </tr>\n",
              "    <tr>\n",
              "      <th>4</th>\n",
              "      <td>2024-06-05</td>\n",
              "      <td>Apple</td>\n",
              "      <td>305.58</td>\n",
              "      <td>302.24</td>\n",
              "      <td>552528</td>\n",
              "      <td>Down</td>\n",
              "    </tr>\n",
              "    <tr>\n",
              "      <th>...</th>\n",
              "      <td>...</td>\n",
              "      <td>...</td>\n",
              "      <td>...</td>\n",
              "      <td>...</td>\n",
              "      <td>...</td>\n",
              "      <td>...</td>\n",
              "    </tr>\n",
              "    <tr>\n",
              "      <th>240</th>\n",
              "      <td>2024-06-01</td>\n",
              "      <td>Walmart</td>\n",
              "      <td>304.60</td>\n",
              "      <td>309.45</td>\n",
              "      <td>717215</td>\n",
              "      <td>Up</td>\n",
              "    </tr>\n",
              "    <tr>\n",
              "      <th>241</th>\n",
              "      <td>2024-06-02</td>\n",
              "      <td>Walmart</td>\n",
              "      <td>309.45</td>\n",
              "      <td>306.27</td>\n",
              "      <td>535954</td>\n",
              "      <td>Down</td>\n",
              "    </tr>\n",
              "    <tr>\n",
              "      <th>242</th>\n",
              "      <td>2024-06-03</td>\n",
              "      <td>Walmart</td>\n",
              "      <td>306.27</td>\n",
              "      <td>306.40</td>\n",
              "      <td>1059655</td>\n",
              "      <td>Up</td>\n",
              "    </tr>\n",
              "    <tr>\n",
              "      <th>243</th>\n",
              "      <td>2024-06-04</td>\n",
              "      <td>Walmart</td>\n",
              "      <td>306.40</td>\n",
              "      <td>308.39</td>\n",
              "      <td>1386040</td>\n",
              "      <td>Up</td>\n",
              "    </tr>\n",
              "    <tr>\n",
              "      <th>244</th>\n",
              "      <td>2024-06-05</td>\n",
              "      <td>Walmart</td>\n",
              "      <td>308.39</td>\n",
              "      <td>305.97</td>\n",
              "      <td>1341461</td>\n",
              "      <td>Down</td>\n",
              "    </tr>\n",
              "  </tbody>\n",
              "</table>\n",
              "<p>245 rows × 6 columns</p>\n",
              "</div>"
            ],
            "text/plain": [
              "           Date  Company    Open   Close   Volume Movement\n",
              "0    2024-06-01    Apple  300.20  298.43  1904116     Down\n",
              "1    2024-06-02    Apple  298.43  303.36   783876       Up\n",
              "2    2024-06-03    Apple  303.36  300.89   923570     Down\n",
              "3    2024-06-04    Apple  300.89  305.58  1138353       Up\n",
              "4    2024-06-05    Apple  305.58  302.24   552528     Down\n",
              "..          ...      ...     ...     ...      ...      ...\n",
              "240  2024-06-01  Walmart  304.60  309.45   717215       Up\n",
              "241  2024-06-02  Walmart  309.45  306.27   535954     Down\n",
              "242  2024-06-03  Walmart  306.27  306.40  1059655       Up\n",
              "243  2024-06-04  Walmart  306.40  308.39  1386040       Up\n",
              "244  2024-06-05  Walmart  308.39  305.97  1341461     Down\n",
              "\n",
              "[245 rows x 6 columns]"
            ]
          },
          "execution_count": 4,
          "metadata": {},
          "output_type": "execute_result"
        }
      ],
      "source": [
        "df=pd.read_csv('D:\\Misha ML Project\\stock_movement_real_companies.csv')\n",
        "df"
      ]
    },
    {
      "cell_type": "code",
      "execution_count": 5,
      "metadata": {
        "colab": {
          "base_uri": "https://localhost:8080/"
        },
        "id": "rB9vAldy20_i",
        "outputId": "3d3e4172-ea7f-429a-c23c-1596b1b89bcb"
      },
      "outputs": [
        {
          "data": {
            "text/plain": [
              "RangeIndex(start=0, stop=245, step=1)"
            ]
          },
          "execution_count": 5,
          "metadata": {},
          "output_type": "execute_result"
        }
      ],
      "source": [
        "df.index"
      ]
    },
    {
      "cell_type": "code",
      "execution_count": 6,
      "metadata": {
        "colab": {
          "base_uri": "https://localhost:8080/"
        },
        "id": "6JdkymcC3X35",
        "outputId": "f41d1f15-7b92-453c-ee16-b2d5b9d5719e"
      },
      "outputs": [
        {
          "name": "stdout",
          "output_type": "stream",
          "text": [
            "Index(['Date', 'Company', 'Open', 'Close', 'Volume', 'Movement'], dtype='object')\n"
          ]
        }
      ],
      "source": [
        "print(df.columns)"
      ]
    },
    {
      "cell_type": "code",
      "execution_count": 7,
      "metadata": {
        "id": "wK4kKhu8ApC9"
      },
      "outputs": [],
      "source": [
        "df['Target'] = (df['Close'].shift(-1) > df['Close']).astype(int)\n",
        "df=df.dropna()"
      ]
    },
    {
      "cell_type": "code",
      "execution_count": 8,
      "metadata": {
        "id": "8Jd6YEkhApAP"
      },
      "outputs": [],
      "source": [
        "df['Return'] = df['Close'].pct_change()"
      ]
    },
    {
      "cell_type": "code",
      "execution_count": 9,
      "metadata": {
        "id": "YYtkLdxoAo9X"
      },
      "outputs": [],
      "source": [
        "df['price_change'] = df['Close']-df['Open']"
      ]
    },
    {
      "cell_type": "code",
      "execution_count": 10,
      "metadata": {
        "colab": {
          "base_uri": "https://localhost:8080/",
          "height": 423
        },
        "id": "ETmxomBbAo6B",
        "outputId": "43b27202-18d9-46c4-dfc5-d6cd309223c0"
      },
      "outputs": [
        {
          "data": {
            "text/html": [
              "<div>\n",
              "<style scoped>\n",
              "    .dataframe tbody tr th:only-of-type {\n",
              "        vertical-align: middle;\n",
              "    }\n",
              "\n",
              "    .dataframe tbody tr th {\n",
              "        vertical-align: top;\n",
              "    }\n",
              "\n",
              "    .dataframe thead th {\n",
              "        text-align: right;\n",
              "    }\n",
              "</style>\n",
              "<table border=\"1\" class=\"dataframe\">\n",
              "  <thead>\n",
              "    <tr style=\"text-align: right;\">\n",
              "      <th></th>\n",
              "      <th>Date</th>\n",
              "      <th>Company</th>\n",
              "      <th>Open</th>\n",
              "      <th>Close</th>\n",
              "      <th>Volume</th>\n",
              "      <th>Movement</th>\n",
              "      <th>Target</th>\n",
              "      <th>Return</th>\n",
              "      <th>price_change</th>\n",
              "      <th>Yesterday</th>\n",
              "      <th>Day_after</th>\n",
              "    </tr>\n",
              "  </thead>\n",
              "  <tbody>\n",
              "    <tr>\n",
              "      <th>2</th>\n",
              "      <td>2024-06-03</td>\n",
              "      <td>Apple</td>\n",
              "      <td>303.36</td>\n",
              "      <td>300.89</td>\n",
              "      <td>923570</td>\n",
              "      <td>Down</td>\n",
              "      <td>1</td>\n",
              "      <td>-0.008142</td>\n",
              "      <td>-2.47</td>\n",
              "      <td>303.36</td>\n",
              "      <td>298.43</td>\n",
              "    </tr>\n",
              "    <tr>\n",
              "      <th>3</th>\n",
              "      <td>2024-06-04</td>\n",
              "      <td>Apple</td>\n",
              "      <td>300.89</td>\n",
              "      <td>305.58</td>\n",
              "      <td>1138353</td>\n",
              "      <td>Up</td>\n",
              "      <td>0</td>\n",
              "      <td>0.015587</td>\n",
              "      <td>4.69</td>\n",
              "      <td>300.89</td>\n",
              "      <td>303.36</td>\n",
              "    </tr>\n",
              "    <tr>\n",
              "      <th>4</th>\n",
              "      <td>2024-06-05</td>\n",
              "      <td>Apple</td>\n",
              "      <td>305.58</td>\n",
              "      <td>302.24</td>\n",
              "      <td>552528</td>\n",
              "      <td>Down</td>\n",
              "      <td>1</td>\n",
              "      <td>-0.010930</td>\n",
              "      <td>-3.34</td>\n",
              "      <td>305.58</td>\n",
              "      <td>300.89</td>\n",
              "    </tr>\n",
              "    <tr>\n",
              "      <th>5</th>\n",
              "      <td>2024-06-01</td>\n",
              "      <td>Microsoft</td>\n",
              "      <td>363.09</td>\n",
              "      <td>362.63</td>\n",
              "      <td>1001108</td>\n",
              "      <td>Down</td>\n",
              "      <td>1</td>\n",
              "      <td>0.199808</td>\n",
              "      <td>-0.46</td>\n",
              "      <td>302.24</td>\n",
              "      <td>305.58</td>\n",
              "    </tr>\n",
              "    <tr>\n",
              "      <th>6</th>\n",
              "      <td>2024-06-02</td>\n",
              "      <td>Microsoft</td>\n",
              "      <td>362.63</td>\n",
              "      <td>364.60</td>\n",
              "      <td>1698735</td>\n",
              "      <td>Up</td>\n",
              "      <td>1</td>\n",
              "      <td>0.005433</td>\n",
              "      <td>1.97</td>\n",
              "      <td>362.63</td>\n",
              "      <td>302.24</td>\n",
              "    </tr>\n",
              "    <tr>\n",
              "      <th>...</th>\n",
              "      <td>...</td>\n",
              "      <td>...</td>\n",
              "      <td>...</td>\n",
              "      <td>...</td>\n",
              "      <td>...</td>\n",
              "      <td>...</td>\n",
              "      <td>...</td>\n",
              "      <td>...</td>\n",
              "      <td>...</td>\n",
              "      <td>...</td>\n",
              "      <td>...</td>\n",
              "    </tr>\n",
              "    <tr>\n",
              "      <th>240</th>\n",
              "      <td>2024-06-01</td>\n",
              "      <td>Walmart</td>\n",
              "      <td>304.60</td>\n",
              "      <td>309.45</td>\n",
              "      <td>717215</td>\n",
              "      <td>Up</td>\n",
              "      <td>0</td>\n",
              "      <td>-0.011594</td>\n",
              "      <td>4.85</td>\n",
              "      <td>313.08</td>\n",
              "      <td>308.34</td>\n",
              "    </tr>\n",
              "    <tr>\n",
              "      <th>241</th>\n",
              "      <td>2024-06-02</td>\n",
              "      <td>Walmart</td>\n",
              "      <td>309.45</td>\n",
              "      <td>306.27</td>\n",
              "      <td>535954</td>\n",
              "      <td>Down</td>\n",
              "      <td>1</td>\n",
              "      <td>-0.010276</td>\n",
              "      <td>-3.18</td>\n",
              "      <td>309.45</td>\n",
              "      <td>313.08</td>\n",
              "    </tr>\n",
              "    <tr>\n",
              "      <th>242</th>\n",
              "      <td>2024-06-03</td>\n",
              "      <td>Walmart</td>\n",
              "      <td>306.27</td>\n",
              "      <td>306.40</td>\n",
              "      <td>1059655</td>\n",
              "      <td>Up</td>\n",
              "      <td>1</td>\n",
              "      <td>0.000424</td>\n",
              "      <td>0.13</td>\n",
              "      <td>306.27</td>\n",
              "      <td>309.45</td>\n",
              "    </tr>\n",
              "    <tr>\n",
              "      <th>243</th>\n",
              "      <td>2024-06-04</td>\n",
              "      <td>Walmart</td>\n",
              "      <td>306.40</td>\n",
              "      <td>308.39</td>\n",
              "      <td>1386040</td>\n",
              "      <td>Up</td>\n",
              "      <td>0</td>\n",
              "      <td>0.006495</td>\n",
              "      <td>1.99</td>\n",
              "      <td>306.40</td>\n",
              "      <td>306.27</td>\n",
              "    </tr>\n",
              "    <tr>\n",
              "      <th>244</th>\n",
              "      <td>2024-06-05</td>\n",
              "      <td>Walmart</td>\n",
              "      <td>308.39</td>\n",
              "      <td>305.97</td>\n",
              "      <td>1341461</td>\n",
              "      <td>Down</td>\n",
              "      <td>0</td>\n",
              "      <td>-0.007847</td>\n",
              "      <td>-2.42</td>\n",
              "      <td>308.39</td>\n",
              "      <td>306.40</td>\n",
              "    </tr>\n",
              "  </tbody>\n",
              "</table>\n",
              "<p>243 rows × 11 columns</p>\n",
              "</div>"
            ],
            "text/plain": [
              "           Date    Company    Open   Close   Volume Movement  Target  \\\n",
              "2    2024-06-03      Apple  303.36  300.89   923570     Down       1   \n",
              "3    2024-06-04      Apple  300.89  305.58  1138353       Up       0   \n",
              "4    2024-06-05      Apple  305.58  302.24   552528     Down       1   \n",
              "5    2024-06-01  Microsoft  363.09  362.63  1001108     Down       1   \n",
              "6    2024-06-02  Microsoft  362.63  364.60  1698735       Up       1   \n",
              "..          ...        ...     ...     ...      ...      ...     ...   \n",
              "240  2024-06-01    Walmart  304.60  309.45   717215       Up       0   \n",
              "241  2024-06-02    Walmart  309.45  306.27   535954     Down       1   \n",
              "242  2024-06-03    Walmart  306.27  306.40  1059655       Up       1   \n",
              "243  2024-06-04    Walmart  306.40  308.39  1386040       Up       0   \n",
              "244  2024-06-05    Walmart  308.39  305.97  1341461     Down       0   \n",
              "\n",
              "       Return  price_change  Yesterday  Day_after  \n",
              "2   -0.008142         -2.47     303.36     298.43  \n",
              "3    0.015587          4.69     300.89     303.36  \n",
              "4   -0.010930         -3.34     305.58     300.89  \n",
              "5    0.199808         -0.46     302.24     305.58  \n",
              "6    0.005433          1.97     362.63     302.24  \n",
              "..        ...           ...        ...        ...  \n",
              "240 -0.011594          4.85     313.08     308.34  \n",
              "241 -0.010276         -3.18     309.45     313.08  \n",
              "242  0.000424          0.13     306.27     309.45  \n",
              "243  0.006495          1.99     306.40     306.27  \n",
              "244 -0.007847         -2.42     308.39     306.40  \n",
              "\n",
              "[243 rows x 11 columns]"
            ]
          },
          "execution_count": 10,
          "metadata": {},
          "output_type": "execute_result"
        }
      ],
      "source": [
        "df['Yesterday'] = df['Close'].shift(1)\n",
        "df['Day_after'] = df['Close'].shift(2)\n",
        "df.dropna()"
      ]
    },
    {
      "cell_type": "code",
      "execution_count": null,
      "metadata": {
        "id": "riC35u0wC6-j"
      },
      "outputs": [],
      "source": []
    },
    {
      "cell_type": "code",
      "execution_count": null,
      "metadata": {
        "id": "9p55Y0leC67P"
      },
      "outputs": [],
      "source": []
    },
    {
      "cell_type": "code",
      "execution_count": 11,
      "metadata": {
        "colab": {
          "base_uri": "https://localhost:8080/",
          "height": 447
        },
        "id": "roiyXyfi-DUw",
        "outputId": "aa3f0fef-d178-4a96-dec3-99acf1db8c55"
      },
      "outputs": [
        {
          "data": {
            "text/plain": [
              "<Axes: >"
            ]
          },
          "execution_count": 11,
          "metadata": {},
          "output_type": "execute_result"
        },
        {
          "data": {
            "image/png": "[encoded data removed]",
            "text/plain": [
              "<Figure size 640x480 with 1 Axes>"
            ]
          },
          "metadata": {},
          "output_type": "display_data"
        }
      ],
      "source": [
        "df.plot.line(y=\"Close\" , use_index=True)"
      ]
    },
    {
      "cell_type": "markdown",
      "metadata": {
        "id": "bCmbKGnE-AkF"
      },
      "source": [
        "## EDA EXPLORATORY DATA ANALYSIS\n"
      ]
    },
    {
      "cell_type": "code",
      "execution_count": 12,
      "metadata": {
        "colab": {
          "base_uri": "https://localhost:8080/"
        },
        "id": "gFBwhxgfsNTI",
        "outputId": "cff99d24-2138-4e2c-d553-1986ba2985b7"
      },
      "outputs": [
        {
          "name": "stdout",
          "output_type": "stream",
          "text": [
            "Date             object\n",
            "Company          object\n",
            "Open            float64\n",
            "Close           float64\n",
            "Volume            int64\n",
            "Movement         object\n",
            "Target            int32\n",
            "Return          float64\n",
            "price_change    float64\n",
            "Yesterday       float64\n",
            "Day_after       float64\n",
            "dtype: object\n"
          ]
        }
      ],
      "source": [
        "print(df.dtypes)\n"
      ]
    },
    {
      "cell_type": "code",
      "execution_count": 13,
      "metadata": {
        "colab": {
          "base_uri": "https://localhost:8080/"
        },
        "id": "oN7XUFZ-cmh4",
        "outputId": "ffba9915-bce2-41c1-8b88-cb5d6c09c636"
      },
      "outputs": [
        {
          "name": "stdout",
          "output_type": "stream",
          "text": [
            "<class 'pandas.core.frame.DataFrame'>\n",
            "RangeIndex: 245 entries, 0 to 244\n",
            "Data columns (total 11 columns):\n",
            " #   Column        Non-Null Count  Dtype  \n",
            "---  ------        --------------  -----  \n",
            " 0   Date          245 non-null    object \n",
            " 1   Company       245 non-null    object \n",
            " 2   Open          245 non-null    float64\n",
            " 3   Close         245 non-null    float64\n",
            " 4   Volume        245 non-null    int64  \n",
            " 5   Movement      245 non-null    object \n",
            " 6   Target        245 non-null    int32  \n",
            " 7   Return        244 non-null    float64\n",
            " 8   price_change  245 non-null    float64\n",
            " 9   Yesterday     244 non-null    float64\n",
            " 10  Day_after     243 non-null    float64\n",
            "dtypes: float64(6), int32(1), int64(1), object(3)\n",
            "memory usage: 20.2+ KB\n"
          ]
        }
      ],
      "source": [
        "df.info()"
      ]
    },
    {
      "cell_type": "code",
      "execution_count": 14,
      "metadata": {
        "colab": {
          "base_uri": "https://localhost:8080/",
          "height": 300
        },
        "id": "CQuxJbEQcmer",
        "outputId": "aa467c61-ad58-4954-b56b-76f2f61a210c"
      },
      "outputs": [
        {
          "data": {
            "text/html": [
              "<div>\n",
              "<style scoped>\n",
              "    .dataframe tbody tr th:only-of-type {\n",
              "        vertical-align: middle;\n",
              "    }\n",
              "\n",
              "    .dataframe tbody tr th {\n",
              "        vertical-align: top;\n",
              "    }\n",
              "\n",
              "    .dataframe thead th {\n",
              "        text-align: right;\n",
              "    }\n",
              "</style>\n",
              "<table border=\"1\" class=\"dataframe\">\n",
              "  <thead>\n",
              "    <tr style=\"text-align: right;\">\n",
              "      <th></th>\n",
              "      <th>Open</th>\n",
              "      <th>Close</th>\n",
              "      <th>Volume</th>\n",
              "      <th>Target</th>\n",
              "      <th>Return</th>\n",
              "      <th>price_change</th>\n",
              "      <th>Yesterday</th>\n",
              "      <th>Day_after</th>\n",
              "    </tr>\n",
              "  </thead>\n",
              "  <tbody>\n",
              "    <tr>\n",
              "      <th>count</th>\n",
              "      <td>245.000000</td>\n",
              "      <td>245.000000</td>\n",
              "      <td>2.450000e+02</td>\n",
              "      <td>245.000000</td>\n",
              "      <td>244.000000</td>\n",
              "      <td>245.000000</td>\n",
              "      <td>244.000000</td>\n",
              "      <td>243.000000</td>\n",
              "    </tr>\n",
              "    <tr>\n",
              "      <th>mean</th>\n",
              "      <td>276.125143</td>\n",
              "      <td>276.008898</td>\n",
              "      <td>1.267035e+06</td>\n",
              "      <td>0.457143</td>\n",
              "      <td>0.075188</td>\n",
              "      <td>-0.116245</td>\n",
              "      <td>275.886107</td>\n",
              "      <td>275.752346</td>\n",
              "    </tr>\n",
              "    <tr>\n",
              "      <th>std</th>\n",
              "      <td>111.679702</td>\n",
              "      <td>111.455370</td>\n",
              "      <td>4.209083e+05</td>\n",
              "      <td>0.499180</td>\n",
              "      <td>0.585885</td>\n",
              "      <td>2.859205</td>\n",
              "      <td>111.667860</td>\n",
              "      <td>111.878751</td>\n",
              "    </tr>\n",
              "    <tr>\n",
              "      <th>min</th>\n",
              "      <td>52.390000</td>\n",
              "      <td>53.840000</td>\n",
              "      <td>5.001260e+05</td>\n",
              "      <td>0.000000</td>\n",
              "      <td>-0.777430</td>\n",
              "      <td>-4.880000</td>\n",
              "      <td>53.840000</td>\n",
              "      <td>53.840000</td>\n",
              "    </tr>\n",
              "    <tr>\n",
              "      <th>25%</th>\n",
              "      <td>186.220000</td>\n",
              "      <td>185.780000</td>\n",
              "      <td>9.019210e+05</td>\n",
              "      <td>0.000000</td>\n",
              "      <td>-0.011083</td>\n",
              "      <td>-2.420000</td>\n",
              "      <td>185.477500</td>\n",
              "      <td>185.175000</td>\n",
              "    </tr>\n",
              "    <tr>\n",
              "      <th>50%</th>\n",
              "      <td>290.490000</td>\n",
              "      <td>290.840000</td>\n",
              "      <td>1.299666e+06</td>\n",
              "      <td>0.000000</td>\n",
              "      <td>-0.001811</td>\n",
              "      <td>-0.370000</td>\n",
              "      <td>290.230000</td>\n",
              "      <td>289.620000</td>\n",
              "    </tr>\n",
              "    <tr>\n",
              "      <th>75%</th>\n",
              "      <td>364.170000</td>\n",
              "      <td>364.530000</td>\n",
              "      <td>1.648734e+06</td>\n",
              "      <td>1.000000</td>\n",
              "      <td>0.009657</td>\n",
              "      <td>2.370000</td>\n",
              "      <td>364.547500</td>\n",
              "      <td>364.565000</td>\n",
              "    </tr>\n",
              "    <tr>\n",
              "      <th>max</th>\n",
              "      <td>488.990000</td>\n",
              "      <td>488.580000</td>\n",
              "      <td>1.996972e+06</td>\n",
              "      <td>1.000000</td>\n",
              "      <td>5.850322</td>\n",
              "      <td>4.990000</td>\n",
              "      <td>488.580000</td>\n",
              "      <td>488.580000</td>\n",
              "    </tr>\n",
              "  </tbody>\n",
              "</table>\n",
              "</div>"
            ],
            "text/plain": [
              "             Open       Close        Volume      Target      Return  \\\n",
              "count  245.000000  245.000000  2.450000e+02  245.000000  244.000000   \n",
              "mean   276.125143  276.008898  1.267035e+06    0.457143    0.075188   \n",
              "std    111.679702  111.455370  4.209083e+05    0.499180    0.585885   \n",
              "min     52.390000   53.840000  5.001260e+05    0.000000   -0.777430   \n",
              "25%    186.220000  185.780000  9.019210e+05    0.000000   -0.011083   \n",
              "50%    290.490000  290.840000  1.299666e+06    0.000000   -0.001811   \n",
              "75%    364.170000  364.530000  1.648734e+06    1.000000    0.009657   \n",
              "max    488.990000  488.580000  1.996972e+06    1.000000    5.850322   \n",
              "\n",
              "       price_change   Yesterday   Day_after  \n",
              "count    245.000000  244.000000  243.000000  \n",
              "mean      -0.116245  275.886107  275.752346  \n",
              "std        2.859205  111.667860  111.878751  \n",
              "min       -4.880000   53.840000   53.840000  \n",
              "25%       -2.420000  185.477500  185.175000  \n",
              "50%       -0.370000  290.230000  289.620000  \n",
              "75%        2.370000  364.547500  364.565000  \n",
              "max        4.990000  488.580000  488.580000  "
            ]
          },
          "execution_count": 14,
          "metadata": {},
          "output_type": "execute_result"
        }
      ],
      "source": [
        "df.describe()"
      ]
    },
    {
      "cell_type": "code",
      "execution_count": 15,
      "metadata": {
        "colab": {
          "base_uri": "https://localhost:8080/",
          "height": 429
        },
        "id": "zwkIv_4gcmb_",
        "outputId": "89fc5785-65df-47a2-ff90-d2ad28b61109"
      },
      "outputs": [
        {
          "data": {
            "text/plain": [
              "Date              5\n",
              "Company          48\n",
              "Open            244\n",
              "Close           243\n",
              "Volume          245\n",
              "Movement          2\n",
              "Target            2\n",
              "Return          244\n",
              "price_change    229\n",
              "Yesterday       242\n",
              "Day_after       241\n",
              "dtype: int64"
            ]
          },
          "execution_count": 15,
          "metadata": {},
          "output_type": "execute_result"
        }
      ],
      "source": [
        "df.nunique()"
      ]
    },
    {
      "cell_type": "code",
      "execution_count": 16,
      "metadata": {
        "colab": {
          "base_uri": "https://localhost:8080/",
          "height": 429
        },
        "id": "1Rip9bSmcmZl",
        "outputId": "c2eb5597-fe30-447f-f4ac-fbff5582604f"
      },
      "outputs": [
        {
          "data": {
            "text/plain": [
              "Date            0\n",
              "Company         0\n",
              "Open            0\n",
              "Close           0\n",
              "Volume          0\n",
              "Movement        0\n",
              "Target          0\n",
              "Return          1\n",
              "price_change    0\n",
              "Yesterday       1\n",
              "Day_after       2\n",
              "dtype: int64"
            ]
          },
          "execution_count": 16,
          "metadata": {},
          "output_type": "execute_result"
        }
      ],
      "source": [
        "df.isnull().sum()"
      ]
    },
    {
      "cell_type": "code",
      "execution_count": null,
      "metadata": {
        "id": "TuK5vwjMcmXA"
      },
      "outputs": [],
      "source": []
    },
    {
      "cell_type": "code",
      "execution_count": 17,
      "metadata": {
        "colab": {
          "base_uri": "https://localhost:8080/"
        },
        "id": "hBCT2pebcmUV",
        "outputId": "74013d2a-fe3d-41f3-e9a2-a267c87b4992"
      },
      "outputs": [
        {
          "name": "stdout",
          "output_type": "stream",
          "text": [
            "  Movement  Movement_numeric\n",
            "0     Down                 0\n",
            "1       Up                 1\n",
            "2     Down                 0\n",
            "3       Up                 1\n",
            "4     Down                 0\n"
          ]
        }
      ],
      "source": [
        "df['Movement_numeric'] = df['Movement'].map({'Up': 1, 'Down': 0})\n",
        "\n",
        "\n",
        "print(df[['Movement', 'Movement_numeric']].head())"
      ]
    },
    {
      "cell_type": "code",
      "execution_count": 18,
      "metadata": {
        "colab": {
          "base_uri": "https://localhost:8080/",
          "height": 617
        },
        "id": "PRp2toovcmRt",
        "outputId": "fa209e13-15aa-475c-f50a-b945baea24c3"
      },
      "outputs": [
        {
          "data": {
            "text/html": [
              "<div>\n",
              "<style scoped>\n",
              "    .dataframe tbody tr th:only-of-type {\n",
              "        vertical-align: middle;\n",
              "    }\n",
              "\n",
              "    .dataframe tbody tr th {\n",
              "        vertical-align: top;\n",
              "    }\n",
              "\n",
              "    .dataframe thead th {\n",
              "        text-align: right;\n",
              "    }\n",
              "</style>\n",
              "<table border=\"1\" class=\"dataframe\">\n",
              "  <thead>\n",
              "    <tr style=\"text-align: right;\">\n",
              "      <th></th>\n",
              "      <th>Date</th>\n",
              "      <th>Company</th>\n",
              "      <th>Open</th>\n",
              "      <th>Close</th>\n",
              "      <th>Volume</th>\n",
              "      <th>Movement</th>\n",
              "      <th>Target</th>\n",
              "      <th>Return</th>\n",
              "      <th>price_change</th>\n",
              "      <th>Yesterday</th>\n",
              "      <th>Day_after</th>\n",
              "      <th>Movement_numeric</th>\n",
              "    </tr>\n",
              "  </thead>\n",
              "  <tbody>\n",
              "    <tr>\n",
              "      <th>0</th>\n",
              "      <td>2024-06-01</td>\n",
              "      <td>6</td>\n",
              "      <td>300.20</td>\n",
              "      <td>298.43</td>\n",
              "      <td>1904116</td>\n",
              "      <td>Down</td>\n",
              "      <td>1</td>\n",
              "      <td>NaN</td>\n",
              "      <td>-1.77</td>\n",
              "      <td>NaN</td>\n",
              "      <td>NaN</td>\n",
              "      <td>0</td>\n",
              "    </tr>\n",
              "    <tr>\n",
              "      <th>1</th>\n",
              "      <td>2024-06-02</td>\n",
              "      <td>6</td>\n",
              "      <td>298.43</td>\n",
              "      <td>303.36</td>\n",
              "      <td>783876</td>\n",
              "      <td>Up</td>\n",
              "      <td>0</td>\n",
              "      <td>0.016520</td>\n",
              "      <td>4.93</td>\n",
              "      <td>298.43</td>\n",
              "      <td>NaN</td>\n",
              "      <td>1</td>\n",
              "    </tr>\n",
              "    <tr>\n",
              "      <th>2</th>\n",
              "      <td>2024-06-03</td>\n",
              "      <td>6</td>\n",
              "      <td>303.36</td>\n",
              "      <td>300.89</td>\n",
              "      <td>923570</td>\n",
              "      <td>Down</td>\n",
              "      <td>1</td>\n",
              "      <td>-0.008142</td>\n",
              "      <td>-2.47</td>\n",
              "      <td>303.36</td>\n",
              "      <td>298.43</td>\n",
              "      <td>0</td>\n",
              "    </tr>\n",
              "    <tr>\n",
              "      <th>3</th>\n",
              "      <td>2024-06-04</td>\n",
              "      <td>6</td>\n",
              "      <td>300.89</td>\n",
              "      <td>305.58</td>\n",
              "      <td>1138353</td>\n",
              "      <td>Up</td>\n",
              "      <td>0</td>\n",
              "      <td>0.015587</td>\n",
              "      <td>4.69</td>\n",
              "      <td>300.89</td>\n",
              "      <td>303.36</td>\n",
              "      <td>1</td>\n",
              "    </tr>\n",
              "    <tr>\n",
              "      <th>4</th>\n",
              "      <td>2024-06-05</td>\n",
              "      <td>6</td>\n",
              "      <td>305.58</td>\n",
              "      <td>302.24</td>\n",
              "      <td>552528</td>\n",
              "      <td>Down</td>\n",
              "      <td>1</td>\n",
              "      <td>-0.010930</td>\n",
              "      <td>-3.34</td>\n",
              "      <td>305.58</td>\n",
              "      <td>300.89</td>\n",
              "      <td>0</td>\n",
              "    </tr>\n",
              "    <tr>\n",
              "      <th>...</th>\n",
              "      <td>...</td>\n",
              "      <td>...</td>\n",
              "      <td>...</td>\n",
              "      <td>...</td>\n",
              "      <td>...</td>\n",
              "      <td>...</td>\n",
              "      <td>...</td>\n",
              "      <td>...</td>\n",
              "      <td>...</td>\n",
              "      <td>...</td>\n",
              "      <td>...</td>\n",
              "      <td>...</td>\n",
              "    </tr>\n",
              "    <tr>\n",
              "      <th>240</th>\n",
              "      <td>2024-06-01</td>\n",
              "      <td>46</td>\n",
              "      <td>304.60</td>\n",
              "      <td>309.45</td>\n",
              "      <td>717215</td>\n",
              "      <td>Up</td>\n",
              "      <td>0</td>\n",
              "      <td>-0.011594</td>\n",
              "      <td>4.85</td>\n",
              "      <td>313.08</td>\n",
              "      <td>308.34</td>\n",
              "      <td>1</td>\n",
              "    </tr>\n",
              "    <tr>\n",
              "      <th>241</th>\n",
              "      <td>2024-06-02</td>\n",
              "      <td>46</td>\n",
              "      <td>309.45</td>\n",
              "      <td>306.27</td>\n",
              "      <td>535954</td>\n",
              "      <td>Down</td>\n",
              "      <td>1</td>\n",
              "      <td>-0.010276</td>\n",
              "      <td>-3.18</td>\n",
              "      <td>309.45</td>\n",
              "      <td>313.08</td>\n",
              "      <td>0</td>\n",
              "    </tr>\n",
              "    <tr>\n",
              "      <th>242</th>\n",
              "      <td>2024-06-03</td>\n",
              "      <td>46</td>\n",
              "      <td>306.27</td>\n",
              "      <td>306.40</td>\n",
              "      <td>1059655</td>\n",
              "      <td>Up</td>\n",
              "      <td>1</td>\n",
              "      <td>0.000424</td>\n",
              "      <td>0.13</td>\n",
              "      <td>306.27</td>\n",
              "      <td>309.45</td>\n",
              "      <td>1</td>\n",
              "    </tr>\n",
              "    <tr>\n",
              "      <th>243</th>\n",
              "      <td>2024-06-04</td>\n",
              "      <td>46</td>\n",
              "      <td>306.40</td>\n",
              "      <td>308.39</td>\n",
              "      <td>1386040</td>\n",
              "      <td>Up</td>\n",
              "      <td>0</td>\n",
              "      <td>0.006495</td>\n",
              "      <td>1.99</td>\n",
              "      <td>306.40</td>\n",
              "      <td>306.27</td>\n",
              "      <td>1</td>\n",
              "    </tr>\n",
              "    <tr>\n",
              "      <th>244</th>\n",
              "      <td>2024-06-05</td>\n",
              "      <td>46</td>\n",
              "      <td>308.39</td>\n",
              "      <td>305.97</td>\n",
              "      <td>1341461</td>\n",
              "      <td>Down</td>\n",
              "      <td>0</td>\n",
              "      <td>-0.007847</td>\n",
              "      <td>-2.42</td>\n",
              "      <td>308.39</td>\n",
              "      <td>306.40</td>\n",
              "      <td>0</td>\n",
              "    </tr>\n",
              "  </tbody>\n",
              "</table>\n",
              "<p>245 rows × 12 columns</p>\n",
              "</div>"
            ],
            "text/plain": [
              "           Date  Company    Open   Close   Volume Movement  Target    Return  \\\n",
              "0    2024-06-01        6  300.20  298.43  1904116     Down       1       NaN   \n",
              "1    2024-06-02        6  298.43  303.36   783876       Up       0  0.016520   \n",
              "2    2024-06-03        6  303.36  300.89   923570     Down       1 -0.008142   \n",
              "3    2024-06-04        6  300.89  305.58  1138353       Up       0  0.015587   \n",
              "4    2024-06-05        6  305.58  302.24   552528     Down       1 -0.010930   \n",
              "..          ...      ...     ...     ...      ...      ...     ...       ...   \n",
              "240  2024-06-01       46  304.60  309.45   717215       Up       0 -0.011594   \n",
              "241  2024-06-02       46  309.45  306.27   535954     Down       1 -0.010276   \n",
              "242  2024-06-03       46  306.27  306.40  1059655       Up       1  0.000424   \n",
              "243  2024-06-04       46  306.40  308.39  1386040       Up       0  0.006495   \n",
              "244  2024-06-05       46  308.39  305.97  1341461     Down       0 -0.007847   \n",
              "\n",
              "     price_change  Yesterday  Day_after  Movement_numeric  \n",
              "0           -1.77        NaN        NaN                 0  \n",
              "1            4.93     298.43        NaN                 1  \n",
              "2           -2.47     303.36     298.43                 0  \n",
              "3            4.69     300.89     303.36                 1  \n",
              "4           -3.34     305.58     300.89                 0  \n",
              "..            ...        ...        ...               ...  \n",
              "240          4.85     313.08     308.34                 1  \n",
              "241         -3.18     309.45     313.08                 0  \n",
              "242          0.13     306.27     309.45                 1  \n",
              "243          1.99     306.40     306.27                 1  \n",
              "244         -2.42     308.39     306.40                 0  \n",
              "\n",
              "[245 rows x 12 columns]"
            ]
          },
          "execution_count": 18,
          "metadata": {},
          "output_type": "execute_result"
        }
      ],
      "source": [
        "le = LabelEncoder()\n",
        "df['Company'] = le.fit_transform(df['Company'])\n",
        "df\n"
      ]
    },
    {
      "cell_type": "markdown",
      "metadata": {
        "id": "w4qD-vC_-cux"
      },
      "source": [
        "IQR INTER QUARTILE RANGE"
      ]
    },
    {
      "cell_type": "code",
      "execution_count": 19,
      "metadata": {
        "colab": {
          "base_uri": "https://localhost:8080/",
          "height": 538
        },
        "id": "aCMuH61a2RZv",
        "outputId": "9e2f9b2f-2f7d-4375-b5a8-3c06e4441311"
      },
      "outputs": [
        {
          "data": {
            "image/png": "[encoded data removed]",
            "text/plain": [
              "<Figure size 640x480 with 1 Axes>"
            ]
          },
          "metadata": {},
          "output_type": "display_data"
        }
      ],
      "source": [
        "sns.boxplot(df)\n",
        "plt.xticks(rotation=45)\n",
        "plt.show()"
      ]
    },
    {
      "cell_type": "code",
      "execution_count": 20,
      "metadata": {
        "colab": {
          "base_uri": "https://localhost:8080/"
        },
        "id": "KIrRM7kxcmPm",
        "outputId": "2cca2f17-ffee-4622-ea6c-8f5e946fe160"
      },
      "outputs": [
        {
          "name": "stdout",
          "output_type": "stream",
          "text": [
            "Q1 (25th percentile):\n",
            " Company                 12.000000\n",
            "Open                   186.220000\n",
            "Close                  185.780000\n",
            "Volume              901921.000000\n",
            "Target                   0.000000\n",
            "Return                  -0.011083\n",
            "price_change            -2.420000\n",
            "Yesterday              185.477500\n",
            "Day_after              185.175000\n",
            "Movement_numeric         0.000000\n",
            "Name: 0.25, dtype: float64\n",
            "\n",
            "Q3 (75th percentile):\n",
            " Company             3.600000e+01\n",
            "Open                3.641700e+02\n",
            "Close               3.645300e+02\n",
            "Volume              1.648734e+06\n",
            "Target              1.000000e+00\n",
            "Return              9.657174e-03\n",
            "price_change        2.370000e+00\n",
            "Yesterday           3.645475e+02\n",
            "Day_after           3.645650e+02\n",
            "Movement_numeric    1.000000e+00\n",
            "Name: 0.75, dtype: float64\n",
            "\n",
            "IQR (Q3 - Q1):\n",
            " Company                 24.00000\n",
            "Open                   177.95000\n",
            "Close                  178.75000\n",
            "Volume              746813.00000\n",
            "Target                   1.00000\n",
            "Return                   0.02074\n",
            "price_change             4.79000\n",
            "Yesterday              179.07000\n",
            "Day_after              179.39000\n",
            "Movement_numeric         1.00000\n",
            "dtype: float64\n"
          ]
        }
      ],
      "source": [
        "numeric_df = df.select_dtypes(include='number')\n",
        "\n",
        "# Calculate Q1 (25th percentile) and Q3 (75th percentile)\n",
        "q1 = numeric_df.quantile(0.25)\n",
        "q3 = numeric_df.quantile(0.75)\n",
        "\n",
        "# Calculate IQR\n",
        "iqr = q3 - q1\n",
        "\n",
        "# Print the results\n",
        "print(\"Q1 (25th percentile):\\n\", q1)\n",
        "print(\"\\nQ3 (75th percentile):\\n\", q3)\n",
        "print(\"\\nIQR (Q3 - Q1):\\n\", iqr)"
      ]
    },
    {
      "cell_type": "code",
      "execution_count": 21,
      "metadata": {
        "colab": {
          "base_uri": "https://localhost:8080/"
        },
        "id": "GKkIL6rLcmNg",
        "outputId": "709dd195-4595-4ef3-91af-80a4aea9d125"
      },
      "outputs": [
        {
          "name": "stdout",
          "output_type": "stream",
          "text": [
            "lower_bound: \n",
            "Company                -24.000000\n",
            "Open                   -80.705000\n",
            "Close                  -82.345000\n",
            "Volume             -218298.500000\n",
            "Target                  -1.500000\n",
            "Return                  -0.042193\n",
            "price_change            -9.605000\n",
            "Yesterday              -83.127500\n",
            "Day_after              -83.910000\n",
            "Movement_numeric        -1.500000\n",
            "dtype: float64\n",
            "\n",
            "upper_bound: \n",
            "Company             7.200000e+01\n",
            "Open                6.310950e+02\n",
            "Close               6.326550e+02\n",
            "Volume              2.768954e+06\n",
            "Target              2.500000e+00\n",
            "Return              4.076744e-02\n",
            "price_change        9.555000e+00\n",
            "Yesterday           6.331525e+02\n",
            "Day_after           6.336500e+02\n",
            "Movement_numeric    2.500000e+00\n",
            "dtype: float64\n",
            "\n"
          ]
        }
      ],
      "source": [
        "lower_bound=q1-1.5*iqr\n",
        "upper_bound=q3+1.5*iqr\n",
        "print(f'lower_bound: \\n{lower_bound}\\n')\n",
        "print(f'upper_bound: \\n{upper_bound}\\n')"
      ]
    },
    {
      "cell_type": "code",
      "execution_count": 22,
      "metadata": {
        "id": "2EGkiXB3cmLQ"
      },
      "outputs": [],
      "source": [
        "df = df[~((numeric_df < lower_bound) | (numeric_df > upper_bound)).any(axis=1)]"
      ]
    },
    {
      "cell_type": "code",
      "execution_count": 23,
      "metadata": {
        "colab": {
          "base_uri": "https://localhost:8080/",
          "height": 617
        },
        "id": "WOprR39ZcmI5",
        "outputId": "c42ef233-5756-4733-913f-0b410cbfdc17"
      },
      "outputs": [
        {
          "data": {
            "text/html": [
              "<div>\n",
              "<style scoped>\n",
              "    .dataframe tbody tr th:only-of-type {\n",
              "        vertical-align: middle;\n",
              "    }\n",
              "\n",
              "    .dataframe tbody tr th {\n",
              "        vertical-align: top;\n",
              "    }\n",
              "\n",
              "    .dataframe thead th {\n",
              "        text-align: right;\n",
              "    }\n",
              "</style>\n",
              "<table border=\"1\" class=\"dataframe\">\n",
              "  <thead>\n",
              "    <tr style=\"text-align: right;\">\n",
              "      <th></th>\n",
              "      <th>Date</th>\n",
              "      <th>Company</th>\n",
              "      <th>Open</th>\n",
              "      <th>Close</th>\n",
              "      <th>Volume</th>\n",
              "      <th>Movement</th>\n",
              "      <th>Target</th>\n",
              "      <th>Return</th>\n",
              "      <th>price_change</th>\n",
              "      <th>Yesterday</th>\n",
              "      <th>Day_after</th>\n",
              "      <th>Movement_numeric</th>\n",
              "    </tr>\n",
              "  </thead>\n",
              "  <tbody>\n",
              "    <tr>\n",
              "      <th>0</th>\n",
              "      <td>2024-06-01</td>\n",
              "      <td>6</td>\n",
              "      <td>300.20</td>\n",
              "      <td>298.43</td>\n",
              "      <td>1904116</td>\n",
              "      <td>Down</td>\n",
              "      <td>1</td>\n",
              "      <td>NaN</td>\n",
              "      <td>-1.77</td>\n",
              "      <td>NaN</td>\n",
              "      <td>NaN</td>\n",
              "      <td>0</td>\n",
              "    </tr>\n",
              "    <tr>\n",
              "      <th>1</th>\n",
              "      <td>2024-06-02</td>\n",
              "      <td>6</td>\n",
              "      <td>298.43</td>\n",
              "      <td>303.36</td>\n",
              "      <td>783876</td>\n",
              "      <td>Up</td>\n",
              "      <td>0</td>\n",
              "      <td>0.016520</td>\n",
              "      <td>4.93</td>\n",
              "      <td>298.43</td>\n",
              "      <td>NaN</td>\n",
              "      <td>1</td>\n",
              "    </tr>\n",
              "    <tr>\n",
              "      <th>2</th>\n",
              "      <td>2024-06-03</td>\n",
              "      <td>6</td>\n",
              "      <td>303.36</td>\n",
              "      <td>300.89</td>\n",
              "      <td>923570</td>\n",
              "      <td>Down</td>\n",
              "      <td>1</td>\n",
              "      <td>-0.008142</td>\n",
              "      <td>-2.47</td>\n",
              "      <td>303.36</td>\n",
              "      <td>298.43</td>\n",
              "      <td>0</td>\n",
              "    </tr>\n",
              "    <tr>\n",
              "      <th>3</th>\n",
              "      <td>2024-06-04</td>\n",
              "      <td>6</td>\n",
              "      <td>300.89</td>\n",
              "      <td>305.58</td>\n",
              "      <td>1138353</td>\n",
              "      <td>Up</td>\n",
              "      <td>0</td>\n",
              "      <td>0.015587</td>\n",
              "      <td>4.69</td>\n",
              "      <td>300.89</td>\n",
              "      <td>303.36</td>\n",
              "      <td>1</td>\n",
              "    </tr>\n",
              "    <tr>\n",
              "      <th>4</th>\n",
              "      <td>2024-06-05</td>\n",
              "      <td>6</td>\n",
              "      <td>305.58</td>\n",
              "      <td>302.24</td>\n",
              "      <td>552528</td>\n",
              "      <td>Down</td>\n",
              "      <td>1</td>\n",
              "      <td>-0.010930</td>\n",
              "      <td>-3.34</td>\n",
              "      <td>305.58</td>\n",
              "      <td>300.89</td>\n",
              "      <td>0</td>\n",
              "    </tr>\n",
              "    <tr>\n",
              "      <th>...</th>\n",
              "      <td>...</td>\n",
              "      <td>...</td>\n",
              "      <td>...</td>\n",
              "      <td>...</td>\n",
              "      <td>...</td>\n",
              "      <td>...</td>\n",
              "      <td>...</td>\n",
              "      <td>...</td>\n",
              "      <td>...</td>\n",
              "      <td>...</td>\n",
              "      <td>...</td>\n",
              "      <td>...</td>\n",
              "    </tr>\n",
              "    <tr>\n",
              "      <th>240</th>\n",
              "      <td>2024-06-01</td>\n",
              "      <td>46</td>\n",
              "      <td>304.60</td>\n",
              "      <td>309.45</td>\n",
              "      <td>717215</td>\n",
              "      <td>Up</td>\n",
              "      <td>0</td>\n",
              "      <td>-0.011594</td>\n",
              "      <td>4.85</td>\n",
              "      <td>313.08</td>\n",
              "      <td>308.34</td>\n",
              "      <td>1</td>\n",
              "    </tr>\n",
              "    <tr>\n",
              "      <th>241</th>\n",
              "      <td>2024-06-02</td>\n",
              "      <td>46</td>\n",
              "      <td>309.45</td>\n",
              "      <td>306.27</td>\n",
              "      <td>535954</td>\n",
              "      <td>Down</td>\n",
              "      <td>1</td>\n",
              "      <td>-0.010276</td>\n",
              "      <td>-3.18</td>\n",
              "      <td>309.45</td>\n",
              "      <td>313.08</td>\n",
              "      <td>0</td>\n",
              "    </tr>\n",
              "    <tr>\n",
              "      <th>242</th>\n",
              "      <td>2024-06-03</td>\n",
              "      <td>46</td>\n",
              "      <td>306.27</td>\n",
              "      <td>306.40</td>\n",
              "      <td>1059655</td>\n",
              "      <td>Up</td>\n",
              "      <td>1</td>\n",
              "      <td>0.000424</td>\n",
              "      <td>0.13</td>\n",
              "      <td>306.27</td>\n",
              "      <td>309.45</td>\n",
              "      <td>1</td>\n",
              "    </tr>\n",
              "    <tr>\n",
              "      <th>243</th>\n",
              "      <td>2024-06-04</td>\n",
              "      <td>46</td>\n",
              "      <td>306.40</td>\n",
              "      <td>308.39</td>\n",
              "      <td>1386040</td>\n",
              "      <td>Up</td>\n",
              "      <td>0</td>\n",
              "      <td>0.006495</td>\n",
              "      <td>1.99</td>\n",
              "      <td>306.40</td>\n",
              "      <td>306.27</td>\n",
              "      <td>1</td>\n",
              "    </tr>\n",
              "    <tr>\n",
              "      <th>244</th>\n",
              "      <td>2024-06-05</td>\n",
              "      <td>46</td>\n",
              "      <td>308.39</td>\n",
              "      <td>305.97</td>\n",
              "      <td>1341461</td>\n",
              "      <td>Down</td>\n",
              "      <td>0</td>\n",
              "      <td>-0.007847</td>\n",
              "      <td>-2.42</td>\n",
              "      <td>308.39</td>\n",
              "      <td>306.40</td>\n",
              "      <td>0</td>\n",
              "    </tr>\n",
              "  </tbody>\n",
              "</table>\n",
              "<p>193 rows × 12 columns</p>\n",
              "</div>"
            ],
            "text/plain": [
              "           Date  Company    Open   Close   Volume Movement  Target    Return  \\\n",
              "0    2024-06-01        6  300.20  298.43  1904116     Down       1       NaN   \n",
              "1    2024-06-02        6  298.43  303.36   783876       Up       0  0.016520   \n",
              "2    2024-06-03        6  303.36  300.89   923570     Down       1 -0.008142   \n",
              "3    2024-06-04        6  300.89  305.58  1138353       Up       0  0.015587   \n",
              "4    2024-06-05        6  305.58  302.24   552528     Down       1 -0.010930   \n",
              "..          ...      ...     ...     ...      ...      ...     ...       ...   \n",
              "240  2024-06-01       46  304.60  309.45   717215       Up       0 -0.011594   \n",
              "241  2024-06-02       46  309.45  306.27   535954     Down       1 -0.010276   \n",
              "242  2024-06-03       46  306.27  306.40  1059655       Up       1  0.000424   \n",
              "243  2024-06-04       46  306.40  308.39  1386040       Up       0  0.006495   \n",
              "244  2024-06-05       46  308.39  305.97  1341461     Down       0 -0.007847   \n",
              "\n",
              "     price_change  Yesterday  Day_after  Movement_numeric  \n",
              "0           -1.77        NaN        NaN                 0  \n",
              "1            4.93     298.43        NaN                 1  \n",
              "2           -2.47     303.36     298.43                 0  \n",
              "3            4.69     300.89     303.36                 1  \n",
              "4           -3.34     305.58     300.89                 0  \n",
              "..            ...        ...        ...               ...  \n",
              "240          4.85     313.08     308.34                 1  \n",
              "241         -3.18     309.45     313.08                 0  \n",
              "242          0.13     306.27     309.45                 1  \n",
              "243          1.99     306.40     306.27                 1  \n",
              "244         -2.42     308.39     306.40                 0  \n",
              "\n",
              "[193 rows x 12 columns]"
            ]
          },
          "execution_count": 23,
          "metadata": {},
          "output_type": "execute_result"
        }
      ],
      "source": [
        "df"
      ]
    },
    {
      "cell_type": "code",
      "execution_count": null,
      "metadata": {
        "id": "rMz-hVP6-ppx"
      },
      "outputs": [],
      "source": []
    },
    {
      "cell_type": "markdown",
      "metadata": {
        "id": "YQEJSJVz-on7"
      },
      "source": [
        "FEATURE SECTIONS"
      ]
    },
    {
      "cell_type": "code",
      "execution_count": 24,
      "metadata": {
        "colab": {
          "base_uri": "https://localhost:8080/"
        },
        "id": "DgNu7ILwcmGg",
        "outputId": "ac0ff4b8-e2ef-4d68-baff-b6a142cf209f"
      },
      "outputs": [
        {
          "name": "stdout",
          "output_type": "stream",
          "text": [
            "Index(['Date', 'Company', 'Open', 'Close', 'Volume', 'Movement', 'Target',\n",
            "       'Return', 'price_change', 'Yesterday', 'Day_after', 'Movement_numeric'],\n",
            "      dtype='object')\n"
          ]
        }
      ],
      "source": [
        "print(df.columns)"
      ]
    },
    {
      "cell_type": "code",
      "execution_count": 25,
      "metadata": {
        "colab": {
          "base_uri": "https://localhost:8080/",
          "height": 313
        },
        "id": "gf7JYbVkcmDH",
        "outputId": "dbd801cf-1e4a-4775-cb27-ecf32cd0110e"
      },
      "outputs": [
        {
          "data": {
            "text/html": [
              "<div>\n",
              "<style scoped>\n",
              "    .dataframe tbody tr th:only-of-type {\n",
              "        vertical-align: middle;\n",
              "    }\n",
              "\n",
              "    .dataframe tbody tr th {\n",
              "        vertical-align: top;\n",
              "    }\n",
              "\n",
              "    .dataframe thead th {\n",
              "        text-align: right;\n",
              "    }\n",
              "</style>\n",
              "<table border=\"1\" class=\"dataframe\">\n",
              "  <thead>\n",
              "    <tr style=\"text-align: right;\">\n",
              "      <th></th>\n",
              "      <th>Date</th>\n",
              "      <th>Company</th>\n",
              "      <th>Open</th>\n",
              "      <th>Close</th>\n",
              "      <th>Volume</th>\n",
              "      <th>Movement</th>\n",
              "      <th>Target</th>\n",
              "      <th>Return</th>\n",
              "      <th>price_change</th>\n",
              "      <th>Yesterday</th>\n",
              "      <th>Day_after</th>\n",
              "      <th>Movement_numeric</th>\n",
              "    </tr>\n",
              "  </thead>\n",
              "  <tbody>\n",
              "    <tr>\n",
              "      <th>0</th>\n",
              "      <td>2024-06-01</td>\n",
              "      <td>6</td>\n",
              "      <td>300.20</td>\n",
              "      <td>298.43</td>\n",
              "      <td>1904116</td>\n",
              "      <td>Down</td>\n",
              "      <td>1</td>\n",
              "      <td>NaN</td>\n",
              "      <td>-1.77</td>\n",
              "      <td>NaN</td>\n",
              "      <td>NaN</td>\n",
              "      <td>0</td>\n",
              "    </tr>\n",
              "    <tr>\n",
              "      <th>1</th>\n",
              "      <td>2024-06-02</td>\n",
              "      <td>6</td>\n",
              "      <td>298.43</td>\n",
              "      <td>303.36</td>\n",
              "      <td>783876</td>\n",
              "      <td>Up</td>\n",
              "      <td>0</td>\n",
              "      <td>0.016520</td>\n",
              "      <td>4.93</td>\n",
              "      <td>298.43</td>\n",
              "      <td>NaN</td>\n",
              "      <td>1</td>\n",
              "    </tr>\n",
              "    <tr>\n",
              "      <th>2</th>\n",
              "      <td>2024-06-03</td>\n",
              "      <td>6</td>\n",
              "      <td>303.36</td>\n",
              "      <td>300.89</td>\n",
              "      <td>923570</td>\n",
              "      <td>Down</td>\n",
              "      <td>1</td>\n",
              "      <td>-0.008142</td>\n",
              "      <td>-2.47</td>\n",
              "      <td>303.36</td>\n",
              "      <td>298.43</td>\n",
              "      <td>0</td>\n",
              "    </tr>\n",
              "    <tr>\n",
              "      <th>3</th>\n",
              "      <td>2024-06-04</td>\n",
              "      <td>6</td>\n",
              "      <td>300.89</td>\n",
              "      <td>305.58</td>\n",
              "      <td>1138353</td>\n",
              "      <td>Up</td>\n",
              "      <td>0</td>\n",
              "      <td>0.015587</td>\n",
              "      <td>4.69</td>\n",
              "      <td>300.89</td>\n",
              "      <td>303.36</td>\n",
              "      <td>1</td>\n",
              "    </tr>\n",
              "    <tr>\n",
              "      <th>4</th>\n",
              "      <td>2024-06-05</td>\n",
              "      <td>6</td>\n",
              "      <td>305.58</td>\n",
              "      <td>302.24</td>\n",
              "      <td>552528</td>\n",
              "      <td>Down</td>\n",
              "      <td>1</td>\n",
              "      <td>-0.010930</td>\n",
              "      <td>-3.34</td>\n",
              "      <td>305.58</td>\n",
              "      <td>300.89</td>\n",
              "      <td>0</td>\n",
              "    </tr>\n",
              "  </tbody>\n",
              "</table>\n",
              "</div>"
            ],
            "text/plain": [
              "         Date  Company    Open   Close   Volume Movement  Target    Return  \\\n",
              "0  2024-06-01        6  300.20  298.43  1904116     Down       1       NaN   \n",
              "1  2024-06-02        6  298.43  303.36   783876       Up       0  0.016520   \n",
              "2  2024-06-03        6  303.36  300.89   923570     Down       1 -0.008142   \n",
              "3  2024-06-04        6  300.89  305.58  1138353       Up       0  0.015587   \n",
              "4  2024-06-05        6  305.58  302.24   552528     Down       1 -0.010930   \n",
              "\n",
              "   price_change  Yesterday  Day_after  Movement_numeric  \n",
              "0         -1.77        NaN        NaN                 0  \n",
              "1          4.93     298.43        NaN                 1  \n",
              "2         -2.47     303.36     298.43                 0  \n",
              "3          4.69     300.89     303.36                 1  \n",
              "4         -3.34     305.58     300.89                 0  "
            ]
          },
          "execution_count": 25,
          "metadata": {},
          "output_type": "execute_result"
        }
      ],
      "source": [
        "df.head()"
      ]
    },
    {
      "cell_type": "code",
      "execution_count": 26,
      "metadata": {
        "colab": {
          "base_uri": "https://localhost:8080/"
        },
        "id": "4-0C__bj433Z",
        "outputId": "8c02b49e-44bf-4529-ce66-e1c144c8fcf8"
      },
      "outputs": [
        {
          "name": "stdout",
          "output_type": "stream",
          "text": [
            "                      Open     Close    Volume    Target    Return  \\\n",
            "Open              1.000000  0.999656 -0.019793 -0.177032  0.065976   \n",
            "Close             0.999656  1.000000 -0.020407 -0.178932  0.088736   \n",
            "Volume           -0.019793 -0.020407  1.000000  0.027296 -0.001600   \n",
            "Target           -0.177032 -0.178932  0.027296  1.000000 -0.035141   \n",
            "Return            0.065976  0.088736 -0.001600 -0.035141  1.000000   \n",
            "price_change      0.021864  0.048068 -0.024110 -0.078637  0.870842   \n",
            "Yesterday         0.999974  0.999641 -0.021240 -0.179205  0.064841   \n",
            "Day_after         0.659032  0.657863 -0.118480 -0.128812 -0.001765   \n",
            "Movement_numeric  0.018648  0.041185 -0.008751 -0.057968  0.767514   \n",
            "\n",
            "                  price_change  Yesterday  Day_after  Movement_numeric  \n",
            "Open                  0.021864   0.999974   0.659032          0.018648  \n",
            "Close                 0.048068   0.999641   0.657863          0.041185  \n",
            "Volume               -0.024110  -0.021240  -0.118480         -0.008751  \n",
            "Target               -0.078637  -0.179205  -0.128812         -0.057968  \n",
            "Return                0.870842   0.064841  -0.001765          0.767514  \n",
            "price_change          1.000000   0.022739  -0.022548          0.860052  \n",
            "Yesterday             0.022739   1.000000   0.659074          0.019631  \n",
            "Day_after            -0.022548   0.659074   1.000000          0.022172  \n",
            "Movement_numeric      0.860052   0.019631   0.022172          1.000000  \n"
          ]
        },
        {
          "name": "stderr",
          "output_type": "stream",
          "text": [
            "C:\\Users\\sharm\\AppData\\Local\\Temp\\ipykernel_28164\\4114789060.py:1: SettingWithCopyWarning: \n",
            "A value is trying to be set on a copy of a slice from a DataFrame.\n",
            "Try using .loc[row_indexer,col_indexer] = value instead\n",
            "\n",
            "See the caveats in the documentation: https://pandas.pydata.org/pandas-docs/stable/user_guide/indexing.html#returning-a-view-versus-a-copy\n",
            "  df['Movement_numeric'] = df['Movement'].map({'Down': 0, 'Up': 1})\n"
          ]
        }
      ],
      "source": [
        "df['Movement_numeric'] = df['Movement'].map({'Down': 0, 'Up': 1})\n",
        "df_corr = df.drop(['Movement', 'Company', 'Date'], axis=1)\n",
        "print(df_corr.corr())\n"
      ]
    },
    {
      "cell_type": "code",
      "execution_count": 27,
      "metadata": {
        "colab": {
          "base_uri": "https://localhost:8080/"
        },
        "id": "aXrmKLHI7zcD",
        "outputId": "0b9c606a-54b9-43d0-84d0-bd7f4bdd12d0"
      },
      "outputs": [
        {
          "name": "stdout",
          "output_type": "stream",
          "text": [
            "                   Company      Open     Close    Volume    Target    Return  \\\n",
            "Company           1.000000  0.150591  0.147743 -0.015430 -0.029779 -0.153109   \n",
            "Open              0.150591  1.000000  0.999656 -0.019793 -0.177032  0.065976   \n",
            "Close             0.147743  0.999656  1.000000 -0.020407 -0.178932  0.088736   \n",
            "Volume           -0.015430 -0.019793 -0.020407  1.000000  0.027296 -0.001600   \n",
            "Target           -0.029779 -0.177032 -0.178932  0.027296  1.000000 -0.035141   \n",
            "Return           -0.153109  0.065976  0.088736 -0.001600 -0.035141  1.000000   \n",
            "price_change     -0.103330  0.021864  0.048068 -0.024110 -0.078637  0.870842   \n",
            "Yesterday         0.152980  0.999974  0.999641 -0.021240 -0.179205  0.064841   \n",
            "Day_after         0.137291  0.659032  0.657863 -0.118480 -0.128812 -0.001765   \n",
            "Movement_numeric -0.050274  0.018648  0.041185 -0.008751 -0.057968  0.767514   \n",
            "\n",
            "                  price_change  Yesterday  Day_after  Movement_numeric  \n",
            "Company              -0.103330   0.152980   0.137291         -0.050274  \n",
            "Open                  0.021864   0.999974   0.659032          0.018648  \n",
            "Close                 0.048068   0.999641   0.657863          0.041185  \n",
            "Volume               -0.024110  -0.021240  -0.118480         -0.008751  \n",
            "Target               -0.078637  -0.179205  -0.128812         -0.057968  \n",
            "Return                0.870842   0.064841  -0.001765          0.767514  \n",
            "price_change          1.000000   0.022739  -0.022548          0.860052  \n",
            "Yesterday             0.022739   1.000000   0.659074          0.019631  \n",
            "Day_after            -0.022548   0.659074   1.000000          0.022172  \n",
            "Movement_numeric      0.860052   0.019631   0.022172          1.000000  \n"
          ]
        }
      ],
      "source": [
        "df_numeric_corr = df.select_dtypes(include=['number']).corr()\n",
        "print(df_numeric_corr)"
      ]
    },
    {
      "cell_type": "code",
      "execution_count": 28,
      "metadata": {
        "colab": {
          "base_uri": "https://localhost:8080/",
          "height": 559
        },
        "id": "fVg1GdodcmAo",
        "outputId": "586b5db6-47fe-48c3-f53b-fbd189c1618f"
      },
      "outputs": [
        {
          "data": {
            "image/png": "[encoded data removed]",
            "text/plain": [
              "<Figure size 640x480 with 2 Axes>"
            ]
          },
          "metadata": {},
          "output_type": "display_data"
        }
      ],
      "source": [
        "corr = df.select_dtypes(include=['number']).corr()\n",
        "sns.heatmap(corr, annot=True, cmap='coolwarm')\n",
        "plt.show()\n",
        "\n"
      ]
    },
    {
      "cell_type": "code",
      "execution_count": 29,
      "metadata": {
        "id": "YFCmPgnGcl8K"
      },
      "outputs": [],
      "source": [
        "from sklearn.model_selection import train_test_split\n",
        "from sklearn.tree import DecisionTreeRegressor\n",
        "from sklearn.metrics import mean_squared_error, r2_score"
      ]
    },
    {
      "cell_type": "code",
      "execution_count": 30,
      "metadata": {
        "id": "UgxOI1P2cl5X"
      },
      "outputs": [],
      "source": [
        "df=df.dropna()\n",
        "features = ['Return', 'Yesterday', 'price_change', 'Open', 'Volume']\n",
        "\n",
        "x = df[features]\n",
        "y = df['Target']\n"
      ]
    },
    {
      "cell_type": "code",
      "execution_count": 31,
      "metadata": {
        "id": "N-gHOrSfrijy"
      },
      "outputs": [],
      "source": [
        "\n",
        "from sklearn.model_selection import train_test_split\n",
        "from sklearn.tree import DecisionTreeClassifier\n",
        "from sklearn.metrics import accuracy_score\n",
        "from sklearn.metrics import classification_report\n"
      ]
    },
    {
      "cell_type": "code",
      "execution_count": 32,
      "metadata": {
        "id": "Wo8lipKVcl2v"
      },
      "outputs": [],
      "source": [
        "x_train, x_test, y_train, y_test = train_test_split(x, y, test_size=0.2, random_state=42)"
      ]
    },
    {
      "cell_type": "code",
      "execution_count": 33,
      "metadata": {
        "colab": {
          "base_uri": "https://localhost:8080/",
          "height": 80
        },
        "id": "vzXIQr9acl0O",
        "outputId": "2ba4edda-2315-4b4f-95cd-1fae498595b7"
      },
      "outputs": [
        {
          "data": {
            "text/html": [
              "<style>#sk-container-id-1 {\n",
              "  /* Definition of color scheme common for light and dark mode */\n",
              "  --sklearn-color-text: black;\n",
              "  --sklearn-color-line: gray;\n",
              "  /* Definition of color scheme for unfitted estimators */\n",
              "  --sklearn-color-unfitted-level-0: #fff5e6;\n",
              "  --sklearn-color-unfitted-level-1: #f6e4d2;\n",
              "  --sklearn-color-unfitted-level-2: #ffe0b3;\n",
              "  --sklearn-color-unfitted-level-3: chocolate;\n",
              "  /* Definition of color scheme for fitted estimators */\n",
              "  --sklearn-color-fitted-level-0: #f0f8ff;\n",
              "  --sklearn-color-fitted-level-1: #d4ebff;\n",
              "  --sklearn-color-fitted-level-2: #b3dbfd;\n",
              "  --sklearn-color-fitted-level-3: cornflowerblue;\n",
              "\n",
              "  /* Specific color for light theme */\n",
              "  --sklearn-color-text-on-default-background: var(--sg-text-color, var(--theme-code-foreground, var(--jp-content-font-color1, black)));\n",
              "  --sklearn-color-background: var(--sg-background-color, var(--theme-background, var(--jp-layout-color0, white)));\n",
              "  --sklearn-color-border-box: var(--sg-text-color, var(--theme-code-foreground, var(--jp-content-font-color1, black)));\n",
              "  --sklearn-color-icon: #696969;\n",
              "\n",
              "  @media (prefers-color-scheme: dark) {\n",
              "    /* Redefinition of color scheme for dark theme */\n",
              "    --sklearn-color-text-on-default-background: var(--sg-text-color, var(--theme-code-foreground, var(--jp-content-font-color1, white)));\n",
              "    --sklearn-color-background: var(--sg-background-color, var(--theme-background, var(--jp-layout-color0, #111)));\n",
              "    --sklearn-color-border-box: var(--sg-text-color, var(--theme-code-foreground, var(--jp-content-font-color1, white)));\n",
              "    --sklearn-color-icon: #878787;\n",
              "  }\n",
              "}\n",
              "\n",
              "#sk-container-id-1 {\n",
              "  color: var(--sklearn-color-text);\n",
              "}\n",
              "\n",
              "#sk-container-id-1 pre {\n",
              "  padding: 0;\n",
              "}\n",
              "\n",
              "#sk-container-id-1 input.sk-hidden--visually {\n",
              "  border: 0;\n",
              "  clip: rect(1px 1px 1px 1px);\n",
              "  clip: rect(1px, 1px, 1px, 1px);\n",
              "  height: 1px;\n",
              "  margin: -1px;\n",
              "  overflow: hidden;\n",
              "  padding: 0;\n",
              "  position: absolute;\n",
              "  width: 1px;\n",
              "}\n",
              "\n",
              "#sk-container-id-1 div.sk-dashed-wrapped {\n",
              "  border: 1px dashed var(--sklearn-color-line);\n",
              "  margin: 0 0.4em 0.5em 0.4em;\n",
              "  box-sizing: border-box;\n",
              "  padding-bottom: 0.4em;\n",
              "  background-color: var(--sklearn-color-background);\n",
              "}\n",
              "\n",
              "#sk-container-id-1 div.sk-container {\n",
              "  /* jupyter's `normalize.less` sets `[hidden] { display: none; }`\n",
              "     but bootstrap.min.css set `[hidden] { display: none !important; }`\n",
              "     so we also need the `!important` here to be able to override the\n",
              "     default hidden behavior on the sphinx rendered scikit-learn.org.\n",
              "     See: https://github.com/scikit-learn/scikit-learn/issues/21755 */\n",
              "  display: inline-block !important;\n",
              "  position: relative;\n",
              "}\n",
              "\n",
              "#sk-container-id-1 div.sk-text-repr-fallback {\n",
              "  display: none;\n",
              "}\n",
              "\n",
              "div.sk-parallel-item,\n",
              "div.sk-serial,\n",
              "div.sk-item {\n",
              "  /* draw centered vertical line to link estimators */\n",
              "  background-image: linear-gradient(var(--sklearn-color-text-on-default-background), var(--sklearn-color-text-on-default-background));\n",
              "  background-size: 2px 100%;\n",
              "  background-repeat: no-repeat;\n",
              "  background-position: center center;\n",
              "}\n",
              "\n",
              "/* Parallel-specific style estimator block */\n",
              "\n",
              "#sk-container-id-1 div.sk-parallel-item::after {\n",
              "  content: \"\";\n",
              "  width: 100%;\n",
              "  border-bottom: 2px solid var(--sklearn-color-text-on-default-background);\n",
              "  flex-grow: 1;\n",
              "}\n",
              "\n",
              "#sk-container-id-1 div.sk-parallel {\n",
              "  display: flex;\n",
              "  align-items: stretch;\n",
              "  justify-content: center;\n",
              "  background-color: var(--sklearn-color-background);\n",
              "  position: relative;\n",
              "}\n",
              "\n",
              "#sk-container-id-1 div.sk-parallel-item {\n",
              "  display: flex;\n",
              "  flex-direction: column;\n",
              "}\n",
              "\n",
              "#sk-container-id-1 div.sk-parallel-item:first-child::after {\n",
              "  align-self: flex-end;\n",
              "  width: 50%;\n",
              "}\n",
              "\n",
              "#sk-container-id-1 div.sk-parallel-item:last-child::after {\n",
              "  align-self: flex-start;\n",
              "  width: 50%;\n",
              "}\n",
              "\n",
              "#sk-container-id-1 div.sk-parallel-item:only-child::after {\n",
              "  width: 0;\n",
              "}\n",
              "\n",
              "/* Serial-specific style estimator block */\n",
              "\n",
              "#sk-container-id-1 div.sk-serial {\n",
              "  display: flex;\n",
              "  flex-direction: column;\n",
              "  align-items: center;\n",
              "  background-color: var(--sklearn-color-background);\n",
              "  padding-right: 1em;\n",
              "  padding-left: 1em;\n",
              "}\n",
              "\n",
              "\n",
              "/* Toggleable style: style used for estimator/Pipeline/ColumnTransformer box that is\n",
              "clickable and can be expanded/collapsed.\n",
              "- Pipeline and ColumnTransformer use this feature and define the default style\n",
              "- Estimators will overwrite some part of the style using the `sk-estimator` class\n",
              "*/\n",
              "\n",
              "/* Pipeline and ColumnTransformer style (default) */\n",
              "\n",
              "#sk-container-id-1 div.sk-toggleable {\n",
              "  /* Default theme specific background. It is overwritten whether we have a\n",
              "  specific estimator or a Pipeline/ColumnTransformer */\n",
              "  background-color: var(--sklearn-color-background);\n",
              "}\n",
              "\n",
              "/* Toggleable label */\n",
              "#sk-container-id-1 label.sk-toggleable__label {\n",
              "  cursor: pointer;\n",
              "  display: block;\n",
              "  width: 100%;\n",
              "  margin-bottom: 0;\n",
              "  padding: 0.5em;\n",
              "  box-sizing: border-box;\n",
              "  text-align: center;\n",
              "}\n",
              "\n",
              "#sk-container-id-1 label.sk-toggleable__label-arrow:before {\n",
              "  /* Arrow on the left of the label */\n",
              "  content: \"▸\";\n",
              "  float: left;\n",
              "  margin-right: 0.25em;\n",
              "  color: var(--sklearn-color-icon);\n",
              "}\n",
              "\n",
              "#sk-container-id-1 label.sk-toggleable__label-arrow:hover:before {\n",
              "  color: var(--sklearn-color-text);\n",
              "}\n",
              "\n",
              "/* Toggleable content - dropdown */\n",
              "\n",
              "#sk-container-id-1 div.sk-toggleable__content {\n",
              "  max-height: 0;\n",
              "  max-width: 0;\n",
              "  overflow: hidden;\n",
              "  text-align: left;\n",
              "  /* unfitted */\n",
              "  background-color: var(--sklearn-color-unfitted-level-0);\n",
              "}\n",
              "\n",
              "#sk-container-id-1 div.sk-toggleable__content.fitted {\n",
              "  /* fitted */\n",
              "  background-color: var(--sklearn-color-fitted-level-0);\n",
              "}\n",
              "\n",
              "#sk-container-id-1 div.sk-toggleable__content pre {\n",
              "  margin: 0.2em;\n",
              "  border-radius: 0.25em;\n",
              "  color: var(--sklearn-color-text);\n",
              "  /* unfitted */\n",
              "  background-color: var(--sklearn-color-unfitted-level-0);\n",
              "}\n",
              "\n",
              "#sk-container-id-1 div.sk-toggleable__content.fitted pre {\n",
              "  /* unfitted */\n",
              "  background-color: var(--sklearn-color-fitted-level-0);\n",
              "}\n",
              "\n",
              "#sk-container-id-1 input.sk-toggleable__control:checked~div.sk-toggleable__content {\n",
              "  /* Expand drop-down */\n",
              "  max-height: 200px;\n",
              "  max-width: 100%;\n",
              "  overflow: auto;\n",
              "}\n",
              "\n",
              "#sk-container-id-1 input.sk-toggleable__control:checked~label.sk-toggleable__label-arrow:before {\n",
              "  content: \"▾\";\n",
              "}\n",
              "\n",
              "/* Pipeline/ColumnTransformer-specific style */\n",
              "\n",
              "#sk-container-id-1 div.sk-label input.sk-toggleable__control:checked~label.sk-toggleable__label {\n",
              "  color: var(--sklearn-color-text);\n",
              "  background-color: var(--sklearn-color-unfitted-level-2);\n",
              "}\n",
              "\n",
              "#sk-container-id-1 div.sk-label.fitted input.sk-toggleable__control:checked~label.sk-toggleable__label {\n",
              "  background-color: var(--sklearn-color-fitted-level-2);\n",
              "}\n",
              "\n",
              "/* Estimator-specific style */\n",
              "\n",
              "/* Colorize estimator box */\n",
              "#sk-container-id-1 div.sk-estimator input.sk-toggleable__control:checked~label.sk-toggleable__label {\n",
              "  /* unfitted */\n",
              "  background-color: var(--sklearn-color-unfitted-level-2);\n",
              "}\n",
              "\n",
              "#sk-container-id-1 div.sk-estimator.fitted input.sk-toggleable__control:checked~label.sk-toggleable__label {\n",
              "  /* fitted */\n",
              "  background-color: var(--sklearn-color-fitted-level-2);\n",
              "}\n",
              "\n",
              "#sk-container-id-1 div.sk-label label.sk-toggleable__label,\n",
              "#sk-container-id-1 div.sk-label label {\n",
              "  /* The background is the default theme color */\n",
              "  color: var(--sklearn-color-text-on-default-background);\n",
              "}\n",
              "\n",
              "/* On hover, darken the color of the background */\n",
              "#sk-container-id-1 div.sk-label:hover label.sk-toggleable__label {\n",
              "  color: var(--sklearn-color-text);\n",
              "  background-color: var(--sklearn-color-unfitted-level-2);\n",
              "}\n",
              "\n",
              "/* Label box, darken color on hover, fitted */\n",
              "#sk-container-id-1 div.sk-label.fitted:hover label.sk-toggleable__label.fitted {\n",
              "  color: var(--sklearn-color-text);\n",
              "  background-color: var(--sklearn-color-fitted-level-2);\n",
              "}\n",
              "\n",
              "/* Estimator label */\n",
              "\n",
              "#sk-container-id-1 div.sk-label label {\n",
              "  font-family: monospace;\n",
              "  font-weight: bold;\n",
              "  display: inline-block;\n",
              "  line-height: 1.2em;\n",
              "}\n",
              "\n",
              "#sk-container-id-1 div.sk-label-container {\n",
              "  text-align: center;\n",
              "}\n",
              "\n",
              "/* Estimator-specific */\n",
              "#sk-container-id-1 div.sk-estimator {\n",
              "  font-family: monospace;\n",
              "  border: 1px dotted var(--sklearn-color-border-box);\n",
              "  border-radius: 0.25em;\n",
              "  box-sizing: border-box;\n",
              "  margin-bottom: 0.5em;\n",
              "  /* unfitted */\n",
              "  background-color: var(--sklearn-color-unfitted-level-0);\n",
              "}\n",
              "\n",
              "#sk-container-id-1 div.sk-estimator.fitted {\n",
              "  /* fitted */\n",
              "  background-color: var(--sklearn-color-fitted-level-0);\n",
              "}\n",
              "\n",
              "/* on hover */\n",
              "#sk-container-id-1 div.sk-estimator:hover {\n",
              "  /* unfitted */\n",
              "  background-color: var(--sklearn-color-unfitted-level-2);\n",
              "}\n",
              "\n",
              "#sk-container-id-1 div.sk-estimator.fitted:hover {\n",
              "  /* fitted */\n",
              "  background-color: var(--sklearn-color-fitted-level-2);\n",
              "}\n",
              "\n",
              "/* Specification for estimator info (e.g. \"i\" and \"?\") */\n",
              "\n",
              "/* Common style for \"i\" and \"?\" */\n",
              "\n",
              ".sk-estimator-doc-link,\n",
              "a:link.sk-estimator-doc-link,\n",
              "a:visited.sk-estimator-doc-link {\n",
              "  float: right;\n",
              "  font-size: smaller;\n",
              "  line-height: 1em;\n",
              "  font-family: monospace;\n",
              "  background-color: var(--sklearn-color-background);\n",
              "  border-radius: 1em;\n",
              "  height: 1em;\n",
              "  width: 1em;\n",
              "  text-decoration: none !important;\n",
              "  margin-left: 1ex;\n",
              "  /* unfitted */\n",
              "  border: var(--sklearn-color-unfitted-level-1) 1pt solid;\n",
              "  color: var(--sklearn-color-unfitted-level-1);\n",
              "}\n",
              "\n",
              ".sk-estimator-doc-link.fitted,\n",
              "a:link.sk-estimator-doc-link.fitted,\n",
              "a:visited.sk-estimator-doc-link.fitted {\n",
              "  /* fitted */\n",
              "  border: var(--sklearn-color-fitted-level-1) 1pt solid;\n",
              "  color: var(--sklearn-color-fitted-level-1);\n",
              "}\n",
              "\n",
              "/* On hover */\n",
              "div.sk-estimator:hover .sk-estimator-doc-link:hover,\n",
              ".sk-estimator-doc-link:hover,\n",
              "div.sk-label-container:hover .sk-estimator-doc-link:hover,\n",
              ".sk-estimator-doc-link:hover {\n",
              "  /* unfitted */\n",
              "  background-color: var(--sklearn-color-unfitted-level-3);\n",
              "  color: var(--sklearn-color-background);\n",
              "  text-decoration: none;\n",
              "}\n",
              "\n",
              "div.sk-estimator.fitted:hover .sk-estimator-doc-link.fitted:hover,\n",
              ".sk-estimator-doc-link.fitted:hover,\n",
              "div.sk-label-container:hover .sk-estimator-doc-link.fitted:hover,\n",
              ".sk-estimator-doc-link.fitted:hover {\n",
              "  /* fitted */\n",
              "  background-color: var(--sklearn-color-fitted-level-3);\n",
              "  color: var(--sklearn-color-background);\n",
              "  text-decoration: none;\n",
              "}\n",
              "\n",
              "/* Span, style for the box shown on hovering the info icon */\n",
              ".sk-estimator-doc-link span {\n",
              "  display: none;\n",
              "  z-index: 9999;\n",
              "  position: relative;\n",
              "  font-weight: normal;\n",
              "  right: .2ex;\n",
              "  padding: .5ex;\n",
              "  margin: .5ex;\n",
              "  width: min-content;\n",
              "  min-width: 20ex;\n",
              "  max-width: 50ex;\n",
              "  color: var(--sklearn-color-text);\n",
              "  box-shadow: 2pt 2pt 4pt #999;\n",
              "  /* unfitted */\n",
              "  background: var(--sklearn-color-unfitted-level-0);\n",
              "  border: .5pt solid var(--sklearn-color-unfitted-level-3);\n",
              "}\n",
              "\n",
              ".sk-estimator-doc-link.fitted span {\n",
              "  /* fitted */\n",
              "  background: var(--sklearn-color-fitted-level-0);\n",
              "  border: var(--sklearn-color-fitted-level-3);\n",
              "}\n",
              "\n",
              ".sk-estimator-doc-link:hover span {\n",
              "  display: block;\n",
              "}\n",
              "\n",
              "/* \"?\"-specific style due to the `<a>` HTML tag */\n",
              "\n",
              "#sk-container-id-1 a.estimator_doc_link {\n",
              "  float: right;\n",
              "  font-size: 1rem;\n",
              "  line-height: 1em;\n",
              "  font-family: monospace;\n",
              "  background-color: var(--sklearn-color-background);\n",
              "  border-radius: 1rem;\n",
              "  height: 1rem;\n",
              "  width: 1rem;\n",
              "  text-decoration: none;\n",
              "  /* unfitted */\n",
              "  color: var(--sklearn-color-unfitted-level-1);\n",
              "  border: var(--sklearn-color-unfitted-level-1) 1pt solid;\n",
              "}\n",
              "\n",
              "#sk-container-id-1 a.estimator_doc_link.fitted {\n",
              "  /* fitted */\n",
              "  border: var(--sklearn-color-fitted-level-1) 1pt solid;\n",
              "  color: var(--sklearn-color-fitted-level-1);\n",
              "}\n",
              "\n",
              "/* On hover */\n",
              "#sk-container-id-1 a.estimator_doc_link:hover {\n",
              "  /* unfitted */\n",
              "  background-color: var(--sklearn-color-unfitted-level-3);\n",
              "  color: var(--sklearn-color-background);\n",
              "  text-decoration: none;\n",
              "}\n",
              "\n",
              "#sk-container-id-1 a.estimator_doc_link.fitted:hover {\n",
              "  /* fitted */\n",
              "  background-color: var(--sklearn-color-fitted-level-3);\n",
              "}\n",
              "</style><div id=\"sk-container-id-1\" class=\"sk-top-container\"><div class=\"sk-text-repr-fallback\"><pre>DecisionTreeClassifier()</pre><b>In a Jupyter environment, please rerun this cell to show the HTML representation or trust the notebook. <br />On GitHub, the HTML representation is unable to render, please try loading this page with nbviewer.org.</b></div><div class=\"sk-container\" hidden><div class=\"sk-item\"><div class=\"sk-estimator fitted sk-toggleable\"><input class=\"sk-toggleable__control sk-hidden--visually\" id=\"sk-estimator-id-1\" type=\"checkbox\" checked><label for=\"sk-estimator-id-1\" class=\"sk-toggleable__label fitted sk-toggleable__label-arrow fitted\">&nbsp;&nbsp;DecisionTreeClassifier<a class=\"sk-estimator-doc-link fitted\" rel=\"noreferrer\" target=\"_blank\" href=\"https://scikit-learn.org/1.5/modules/generated/sklearn.tree.DecisionTreeClassifier.html\">?<span>Documentation for DecisionTreeClassifier</span></a><span class=\"sk-estimator-doc-link fitted\">i<span>Fitted</span></span></label><div class=\"sk-toggleable__content fitted\"><pre>DecisionTreeClassifier()</pre></div> </div></div></div></div>"
            ],
            "text/plain": [
              "DecisionTreeClassifier()"
            ]
          },
          "execution_count": 33,
          "metadata": {},
          "output_type": "execute_result"
        }
      ],
      "source": [
        "model=DecisionTreeClassifier()\n",
        "model.fit(x_train, y_train)"
      ]
    },
    {
      "cell_type": "code",
      "execution_count": 34,
      "metadata": {
        "colab": {
          "base_uri": "https://localhost:8080/"
        },
        "id": "msn5pDWOsPWW",
        "outputId": "bbe74cfd-1dda-455a-81be-5522f5923f85"
      },
      "outputs": [
        {
          "data": {
            "text/plain": [
              "1.0"
            ]
          },
          "execution_count": 34,
          "metadata": {},
          "output_type": "execute_result"
        }
      ],
      "source": [
        "from sklearn.metrics import accuracy_score\n",
        "model.score(x_train,y_train)\n"
      ]
    },
    {
      "cell_type": "code",
      "execution_count": 35,
      "metadata": {
        "colab": {
          "base_uri": "https://localhost:8080/"
        },
        "id": "D70XzWolvc-T",
        "outputId": "62645da3-9728-4830-ef8c-2399ec512316"
      },
      "outputs": [
        {
          "data": {
            "text/plain": [
              "0.5897435897435898"
            ]
          },
          "execution_count": 35,
          "metadata": {},
          "output_type": "execute_result"
        }
      ],
      "source": [
        "model.score(x_test,y_test)"
      ]
    },
    {
      "cell_type": "code",
      "execution_count": 36,
      "metadata": {
        "id": "gAKGrJaAvlSI"
      },
      "outputs": [],
      "source": [
        "from sklearn.metrics import confusion_matrix"
      ]
    },
    {
      "cell_type": "code",
      "execution_count": 37,
      "metadata": {
        "colab": {
          "base_uri": "https://localhost:8080/"
        },
        "id": "RD3ma6Gxvq3U",
        "outputId": "8ab55a29-89de-4e00-8211-d8bd17d881ea"
      },
      "outputs": [
        {
          "name": "stdout",
          "output_type": "stream",
          "text": [
            "[[12 10]\n",
            " [ 6 11]]\n"
          ]
        }
      ],
      "source": [
        "print(confusion_matrix(y_test, model.predict(x_test)))"
      ]
    },
    {
      "cell_type": "code",
      "execution_count": 38,
      "metadata": {
        "colab": {
          "base_uri": "https://localhost:8080/"
        },
        "id": "6AKixfAeNq-R",
        "outputId": "aff3bb71-653b-4009-a920-dceed6c42b2f"
      },
      "outputs": [
        {
          "name": "stdout",
          "output_type": "stream",
          "text": [
            "              precision    recall  f1-score   support\n",
            "\n",
            "           0       0.67      0.55      0.60        22\n",
            "           1       0.52      0.65      0.58        17\n",
            "\n",
            "    accuracy                           0.59        39\n",
            "   macro avg       0.60      0.60      0.59        39\n",
            "weighted avg       0.60      0.59      0.59        39\n",
            "\n"
          ]
        }
      ],
      "source": [
        "print(classification_report(y_test, model.predict(x_test)))"
      ]
    },
    {
      "cell_type": "code",
      "execution_count": 39,
      "metadata": {
        "id": "hW-5Ly3Aclx-"
      },
      "outputs": [],
      "source": [
        "from sklearn.svm import SVC\n",
        "from sklearn.neighbors import KNeighborsClassifier\n",
        "from sklearn.ensemble import RandomForestClassifier"
      ]
    },
    {
      "cell_type": "code",
      "execution_count": 40,
      "metadata": {
        "colab": {
          "base_uri": "https://localhost:8080/",
          "height": 80
        },
        "id": "v5vAbexDclsn",
        "outputId": "0d181839-0471-49a2-cad0-8a1fdc1a1c7b"
      },
      "outputs": [],
      "source": [
        "#model2=KNeighborsClassifier()\n",
        "#model2.fit(x_train,y_train)"
      ]
    },
    {
      "cell_type": "code",
      "execution_count": 41,
      "metadata": {
        "colab": {
          "base_uri": "https://localhost:8080/"
        },
        "id": "H3Fe83k9clqE",
        "outputId": "4c15f2fb-8875-4734-a087-58ed91b4deed"
      },
      "outputs": [],
      "source": [
        "#accuracy_score(y_train,model2.predict(x_train))"
      ]
    },
    {
      "cell_type": "code",
      "execution_count": 42,
      "metadata": {
        "colab": {
          "base_uri": "https://localhost:8080/"
        },
        "id": "Xi337SYiy31d",
        "outputId": "04900563-d96c-433a-bac3-afd2f1f696e4"
      },
      "outputs": [],
      "source": [
        "#accuracy_score(y_test,model2.predict(x_test))"
      ]
    },
    {
      "cell_type": "code",
      "execution_count": 43,
      "metadata": {
        "colab": {
          "base_uri": "https://localhost:8080/"
        },
        "id": "d-gEXqvMu7ha",
        "outputId": "19ee9df3-e772-44b2-b911-4aa5ee45667b"
      },
      "outputs": [],
      "source": [
        "#print(confusion_matrix(y_test, model2.predict(x_test)))"
      ]
    },
    {
      "cell_type": "code",
      "execution_count": 44,
      "metadata": {
        "colab": {
          "base_uri": "https://localhost:8080/"
        },
        "id": "4NXmPisnN_y9",
        "outputId": "858c90f6-5816-4903-8fcd-37806054654a"
      },
      "outputs": [],
      "source": [
        "#print(classification_report(y_test, model2.predict(x_test)))"
      ]
    },
    {
      "cell_type": "code",
      "execution_count": 45,
      "metadata": {
        "id": "Glq_iCgMu7es"
      },
      "outputs": [],
      "source": [
        "#from sklearn.ensemble import RandomForestClassifier\n",
        "#model3=RandomForestClassifier()\n",
        "#model3.fit(x_train,y_train)"
      ]
    },
    {
      "cell_type": "code",
      "execution_count": 46,
      "metadata": {
        "id": "M-EeTffOu7cQ"
      },
      "outputs": [],
      "source": [
        "#from sklearn.metrics import accuracy_score\n",
        "#y_pred=model3.predict(x_test)\n",
        "#accuracy_score(y_test,y_pred)"
      ]
    },
    {
      "cell_type": "code",
      "execution_count": 47,
      "metadata": {
        "id": "TsT4yo3tDSpG"
      },
      "outputs": [],
      "source": [
        "#print(classification_report(y_test, model3.predict(x_test)))"
      ]
    },
    {
      "cell_type": "code",
      "execution_count": 48,
      "metadata": {
        "id": "4Z7UH--ku7Zr"
      },
      "outputs": [],
      "source": [
        "#model4=SVC()\n",
        "#model4.fit(x_train,y_train)"
      ]
    },
    {
      "cell_type": "code",
      "execution_count": 49,
      "metadata": {
        "id": "r0omRj2ru7V8"
      },
      "outputs": [],
      "source": [
        "#accuracy_score(y_train,model4.predict(x_train))"
      ]
    },
    {
      "cell_type": "code",
      "execution_count": 50,
      "metadata": {
        "id": "cuEoOftIu7SG"
      },
      "outputs": [],
      "source": [
        "#accuracy_score(y_test,model3.predict(x_test))"
      ]
    },
    {
      "cell_type": "code",
      "execution_count": 51,
      "metadata": {
        "id": "LndSKXbnu7Pq"
      },
      "outputs": [],
      "source": [
        "#print(confusion_matrix(y_test, model.predict(x_test)))"
      ]
    },
    {
      "cell_type": "code",
      "execution_count": 52,
      "metadata": {
        "id": "WdMtDhulu7ND"
      },
      "outputs": [],
      "source": [
        "#from sklearn.metrics import classification_report\n",
        "#print(classification_report(y_test, model3.predict(x_test)))"
      ]
    },
    {
      "cell_type": "code",
      "execution_count": 54,
      "metadata": {
        "id": "VM9VRe1lu7Kt"
      },
      "outputs": [
        {
          "data": {
            "text/plain": [
              "['company_encoder.pkl']"
            ]
          },
          "execution_count": 54,
          "metadata": {},
          "output_type": "execute_result"
        }
      ],
      "source": [
        "from sklearn.tree import DecisionTreeClassifier\n",
        "import joblib\n",
        "\n",
        "# Assuming you’ve already done train-test split and created X_train, y_train\n",
        "model = DecisionTreeClassifier()\n",
        "model.fit(x_train, y_train)\n",
        "\n",
        "# Save the model\n",
        "joblib.dump(model, 'decision_tree_model.pkl')\n",
        "\n",
        "# Save the label encoder for 'Company'\n",
        "joblib.dump(le, 'company_encoder.pkl')\n",
        "\n"
      ]
    },
    {
      "cell_type": "code",
      "execution_count": null,
      "metadata": {
        "id": "Wuie4G40u7IH"
      },
      "outputs": [],
      "source": []
    },
    {
      "cell_type": "code",
      "execution_count": null,
      "metadata": {
        "id": "DM4pMhc5u7Fy"
      },
      "outputs": [],
      "source": []
    },
    {
      "cell_type": "code",
      "execution_count": null,
      "metadata": {
        "id": "GMBoYR-du7DI"
      },
      "outputs": [],
      "source": []
    },
    {
      "cell_type": "code",
      "execution_count": null,
      "metadata": {
        "id": "gFx5bjXFu7Ak"
      },
      "outputs": [],
      "source": []
    },
    {
      "cell_type": "code",
      "execution_count": null,
      "metadata": {
        "id": "ss0Ca6eUu69y"
      },
      "outputs": [],
      "source": []
    },
    {
      "cell_type": "code",
      "execution_count": null,
      "metadata": {
        "id": "wYrDP05ku67I"
      },
      "outputs": [],
      "source": []
    },
    {
      "cell_type": "code",
      "execution_count": null,
      "metadata": {
        "id": "sd0xy1a0u64-"
      },
      "outputs": [],
      "source": []
    },
    {
      "cell_type": "code",
      "execution_count": null,
      "metadata": {
        "id": "QzIEg_-ku6MB"
      },
      "outputs": [],
      "source": []
    },
    {
      "cell_type": "code",
      "execution_count": null,
      "metadata": {
        "id": "BwFOb3uXclnj"
      },
      "outputs": [],
      "source": [
        "\n"
      ]
    }
  ],
  "metadata": {
    "colab": {
      "provenance": []
    },
    "kernelspec": {
      "display_name": "base",
      "language": "python",
      "name": "python3"
    },
    "language_info": {
      "codemirror_mode": {
        "name": "ipython",
        "version": 3
      },
      "file_extension": ".py",
      "mimetype": "text/x-python",
      "name": "python",
      "nbconvert_exporter": "python",
      "pygments_lexer": "ipython3",
      "version": "3.12.4"
    }
  },
  "nbformat": 4,
  "nbformat_minor": 0
}
